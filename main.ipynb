{
 "cells": [
  {
   "cell_type": "markdown",
   "source": [
    "### Global"
   ],
   "metadata": {
    "collapsed": false,
    "pycharm": {
     "name": "#%% md\n"
    }
   }
  },
  {
   "cell_type": "code",
   "execution_count": 1,
   "outputs": [
    {
     "name": "stdout",
     "output_type": "stream",
     "text": [
      "Global done !\n"
     ]
    }
   ],
   "source": [
    "import os, pandas as pd, glob\n",
    "from pythainlp.tokenize import word_tokenize\n",
    "import matplotlib.pyplot as plt\n",
    "from wordcloud import WordCloud\n",
    "from pythainlp.corpus import thai_stopwords\n",
    "stopwords = list(thai_stopwords())\n",
    "import nest_asyncio\n",
    "nest_asyncio.apply()\n",
    "import os, pandas as pd, glob\n",
    "import logging\n",
    "from csv import writer\n",
    "\n",
    "def removeFile(file_name):\n",
    "    if os.path.exists(file_name):\n",
    "        os.remove(file_name)\n",
    "    else:\n",
    "        print(\"Can not delete the file as it doesn't exists\")\n",
    "\n",
    "def readFile(file_name):\n",
    "    return pd.read_csv(file_name, sep=',' ,usecols=COL)\n",
    "\n",
    "print(\"Global done !\")\n",
    "\n",
    "OUTPUT_FILE = 'data/covid_samut.csv'\n",
    "OUTPUT_CLEAN_FILE = 'data/covid_samut_clean.csv'\n",
    "OUTPUT_GRAPH_FILE = 'data/covid_samut_graph.json'\n",
    "COL = [\"id\", \"username\", \"date\", \"time\", \"place\", \"tweet\", \"hashtags\"]"
   ],
   "metadata": {
    "collapsed": false,
    "pycharm": {
     "name": "#%%\n"
    }
   }
  },
  {
   "cell_type": "code",
   "execution_count": 2,
   "outputs": [
    {
     "name": "stdout",
     "output_type": "stream",
     "text": [
      "Can not delete the file as it doesn't exists\n",
      "[!] No more data! Scraping will stop now.\n",
      "found 0 deleted tweets in this search.\n",
      "collect tweet data success ! search hashtag #โควิดสมุทรสาคร\n",
      "[!] No more data! Scraping will stop now.\n",
      "found 0 deleted tweets in this search.\n",
      "collect tweet data success ! search hashtag #ตลาดกลางกุ้ง\n"
     ]
    }
   ],
   "source": [
    "import twint\n",
    "\n",
    "\n",
    "# keywords = ['#โควิดกทม', '#โควิดกรุงเทพ']\n",
    "# keywords = ['#โควิดสมุทรสาคร', '#ตลาดกลางกุ้ง']\n",
    "\n",
    "def getData(keywords, file_path):\n",
    "    removeFile(file_path)\n",
    "    for k in keywords:\n",
    "        t = twint.Config()\n",
    "        t.Search = k\n",
    "        t.Store_csv = True\n",
    "        t.Show_hashtags = False\n",
    "        t.Debug = False\n",
    "        t.Hide_output = True\n",
    "        t.Output = file_path\n",
    "        t.Since = \"2021-01-01\"\n",
    "        t.Until = \"2021-03-01\"\n",
    "        t.Custom[\"tweet\"] = COL\n",
    "        twint.run.Search(t)\n",
    "        print('collect tweet data success ! search hashtag ' + k)\n",
    "\n",
    "getData(['#โควิดสมุทรสาคร', '#ตลาดกลางกุ้ง'], OUTPUT_FILE)\n",
    "# getData(['#โควิดกทม', '#โควิดกรุงเทพ'], OUTPUT_FILE)"
   ],
   "metadata": {
    "collapsed": false,
    "pycharm": {
     "name": "#%%\n"
    }
   }
  },
  {
   "cell_type": "markdown",
   "source": [
    "### Clean"
   ],
   "metadata": {
    "collapsed": false
   }
  },
  {
   "cell_type": "code",
   "execution_count": 3,
   "outputs": [
    {
     "name": "stdout",
     "output_type": "stream",
     "text": [
      "clean text done !\n"
     ]
    }
   ],
   "source": [
    "import os, pandas as pdglob\n",
    "import re\n",
    "\n",
    "def cleanText(msg):\n",
    "    # ลบ text ที่อยู่ในวงเล็บ <> ทั้งหมด\n",
    "    # msg = re.sub(r'<.*?>','', msg)\n",
    "    # ลบ hashtag\n",
    "    # msg = re.sub(r'#','',msg)\n",
    "    # msg = re.sub('.','',msg)\n",
    "\n",
    "    msg = re.sub(':','',msg)\n",
    "    msg = re.sub(' :','',msg)\n",
    "    # msg = re.sub('#','',msg)\n",
    "    msg = re.sub(r'\\(','',msg)\n",
    "    msg = re.sub(r'\\)','',msg)\n",
    "    msg = re.sub(r'-','',msg)\n",
    "    msg = re.sub(r'\\|','',msg)\n",
    "    msg = re.sub(r'’','',msg)\n",
    "    msg = re.sub(r'‘','',msg)\n",
    "    msg = re.sub(r'!','',msg)\n",
    "    msg = re.sub(r'\\[','',msg)\n",
    "    msg = re.sub(r'\\]','',msg)\n",
    "    msg = re.sub(r'⏰','',msg)\n",
    "    msg = re.sub(r'⏬','',msg)\n",
    "    msg = re.sub(r'/','',msg)\n",
    "    msg = re.sub(r'\"','',msg)\n",
    "    msg = re.sub(r'“','',msg)\n",
    "    msg = re.sub(r'”','',msg)\n",
    "    msg = re.sub(r'–','',msg)\n",
    "    msg = re.sub(r'@','',msg)\n",
    "    msg = re.sub(r'^https?:\\/\\/.*[\\r\\n]*', '', msg)\n",
    "    msg = re.sub(r'^http?:\\/\\/.*[\\r\\n]*', '', msg)\n",
    "    msg = re.sub(r'http\\S+', '', msg)\n",
    "    msg = re.sub(r\"[a-z]\", '', msg)\n",
    "    msg = re.sub(r\"[A-Z]\", '', msg)\n",
    "    msg = re.sub(r\"[0-9]\", '', msg)\n",
    "    msg = re.sub(r\"[,@\\'?\\$%_]\", '', msg, flags=re.I)\n",
    "\n",
    "    # remove space\n",
    "    # msg = re.sub(r\"\\s+\", '', msg, flags=re.I)\n",
    "\n",
    "    msg = re.sub(r\"^\\s+\", '', msg, flags=re.I)\n",
    "    msg = re.sub(r\"\\s+$\", '', msg, flags=re.I)\n",
    "    msg = re.sub(r\"\\s+[a-zA-Z]\\s+\", '', msg, flags=re.I)\n",
    "\n",
    "    # ‍\n",
    "    msg = re.sub('\\u200D', '', msg, flags=re.I)\n",
    "    msg = re.sub('\\u200c', '', msg, flags=re.I)\n",
    "    msg = re.sub('\\u200b', '', msg, flags=re.I)\n",
    "    msg = re.sub('\\n', '', msg, flags=re.I)\n",
    "\n",
    "    # hashtage\n",
    "    msg = re.sub(re.compile(\"\\s([@#][\\w_-]+)\", re.ASCII), '', msg)\n",
    "    msg = re.sub(re.compile(\"\\s([@#][\\W_-]+)\", re.ASCII), '', msg)\n",
    "\n",
    "\n",
    "    emoji_pattern = re.compile(\n",
    "    \"[\"\n",
    "    \"\\U0001F1E0-\\U0001F1FF\"  # flags (iOS)\n",
    "    \"\\U0001F300-\\U0001F5FF\"  # symbols & pictographs\n",
    "    \"\\U0001F600-\\U0001F64F\"  # emoticons\n",
    "    \"\\U0001F680-\\U0001F6FF\"  # transport & map symbols\n",
    "    \"\\U0001F700-\\U0001F77F\"  # alchemical symbols\n",
    "    \"\\U0001F780-\\U0001F7FF\"  # Geometric Shapes Extended\n",
    "    \"\\U0001F800-\\U0001F8FF\"  # Supplemental Arrows-C\n",
    "    \"\\U0001F900-\\U0001F9FF\"  # Supplemental Symbols and Pictographs\n",
    "    \"\\U0001FA00-\\U0001FA6F\"  # Chess Symbols\n",
    "    \"\\U0001FA70-\\U0001FAFF\"  # Symbols and Pictographs Extended-A\n",
    "    \"\\U00002702-\\U000027B0\"  # Dingbats\n",
    "    \"\\U000024C2-\\U0001F251\"\n",
    "    \"]+\"\n",
    "    )\n",
    "\n",
    "    msg = re.sub(emoji_pattern, '', msg)\n",
    "    msg = ' '.join(msg.split())\n",
    "    return msg\n",
    "\n",
    "\n",
    "\n",
    "from ast import literal_eval\n",
    "def is_interest_sentence(row):\n",
    "    FILTER_OUT_KEYWORD = ['ขายแบบหนา',\n",
    "                          'ค่าส่ง',\n",
    "                          'ชิ้นละ',\n",
    "                          'กล่องละ',\n",
    "                          'พร้อมส่ง',\n",
    "                          'สนใจทัก',\n",
    "                          'ส่งจริง',\n",
    "                          'ใครสนทัก',\n",
    "                          'ใส่สบายไม่อึดอัด',\n",
    "                          'โปรวันนี้',\n",
    "                          'พรีออเดอร์',\n",
    "                          'จะขาย',\n",
    "                          'ราคา',\n",
    "                          'รับตัวแทนจำหน่าย',\n",
    "                          'รับตัวแทน',\n",
    "                          'จำหน่าย',\n",
    "                          'ส่งฟรี', 'กล่องต่อไป']\n",
    "    sentence = row[5]\n",
    "    hashtags = literal_eval(row[6])\n",
    "    for f in FILTER_OUT_KEYWORD:\n",
    "        if f in sentence:\n",
    "            return False\n",
    "\n",
    "        for h in hashtags:\n",
    "            if f in h:\n",
    "                return False\n",
    "\n",
    "    return True\n",
    "\n",
    "def cleanData(file_name, file_name_clean):\n",
    "    CSV_ENCODING = 'utf-8-sig'\n",
    "\n",
    "    df=pd.read_csv(file_name)\n",
    "\n",
    "    tweet_set = set()\n",
    "    clean_text_list = list()\n",
    "    for i, row in df.iterrows():\n",
    "        clean_tweet = cleanText(row[5])\n",
    "        clean_text_strip = clean_tweet.strip()\n",
    "        if clean_text_strip != '' and len(clean_text_strip) >= 25 and (clean_tweet not in tweet_set) and is_interest_sentence(row):\n",
    "            tweet_set.add(clean_tweet)\n",
    "            clean_text_list.append([row[0],row[1],row[2],row[3],row[4],clean_tweet,row[6]])\n",
    "\n",
    "    df_clean = pd.DataFrame(clean_text_list, columns=COL)\n",
    "    df_clean.to_csv(file_name_clean, encoding=CSV_ENCODING, index=False)\n",
    "    print('clean text done !')\n",
    "\n",
    "cleanData(OUTPUT_FILE, OUTPUT_CLEAN_FILE)\n",
    "# cleanData(OUTPUT_SAMUT_FILE)"
   ],
   "metadata": {
    "collapsed": false,
    "pycharm": {
     "name": "#%%\n"
    }
   }
  },
  {
   "cell_type": "markdown",
   "source": [
    "### WordCloud"
   ],
   "metadata": {
    "collapsed": false
   }
  },
  {
   "cell_type": "code",
   "execution_count": null,
   "outputs": [],
   "source": [
    "!pip install PyICU\n",
    "\n",
    "source_file = OUTPUT_CLEAN_FILE\n",
    "df=pd.read_csv(source_file)\n",
    "\n",
    "text = ''\n",
    "texts = set()\n",
    "for i, row in df.iterrows():\n",
    "    tweet = row[5]\n",
    "    if tweet not in texts:\n",
    "        texts.add(tweet)\n",
    "        text = text + ' '.join(word_tokenize(tweet,engine='icu',keep_whitespace=True))\n",
    "\n",
    "wordcloud = WordCloud(\n",
    "    font_path='font/THSarabunNew.ttf',\n",
    "    stopwords = ' '.join(stopwords),\n",
    "    regexp=r\"[\\u0E00-\\u0E7Fa-zA-Z']+\",\n",
    "    background_color = 'white',\n",
    "    max_words = 200,\n",
    "    max_font_size = 40,\n",
    "    scale = 3,\n",
    "    random_state = 42\n",
    ").generate(text)\n",
    "# fig = plt.figure(1, figsize = (15, 15))\n",
    "#     plt.axis('off')\n",
    "#     if title:\n",
    "#         fig.suptitle(title, fontsize = 20)\n",
    "#         fig.subplots_adjust(top = 2.3)\n",
    "# plt.imshow(wordcloud)\n",
    "# plt.show()\n",
    "plt.imshow(wordcloud, cmap=plt.cm.gray, interpolation='bilinear')\n",
    "plt.axis(\"off\")\n",
    "plt.show()\n"
   ],
   "metadata": {
    "collapsed": false,
    "pycharm": {
     "name": "#%%\n"
    }
   }
  },
  {
   "cell_type": "markdown",
   "source": [
    "### Hashtag"
   ],
   "metadata": {
    "collapsed": false
   }
  },
  {
   "cell_type": "code",
   "execution_count": 4,
   "outputs": [
    {
     "name": "stdout",
     "output_type": "stream",
     "text": [
      "No. of hashtags used in 1655 tweets is 8800\n",
      "Shape of df_hashtag is: (8800, 1)\n",
      "Top  15  Hashtags\n",
      "                hashtags  counts\n",
      "766       โควิดสมุทรสาคร    1613\n",
      "715              โควิด19    1045\n",
      "758          โควิดวันนี้     653\n",
      "714                โควิด     577\n",
      "724         โควิดกรุงเทพ     421\n",
      "28               covid19     337\n",
      "30              covid_19     214\n",
      "764     โควิดสมุทรปราการ     185\n",
      "498  สถานการณ์ควิดวันนี้     167\n",
      "519            สมุทรสาคร     159\n",
      "515          สมองลายพราง     139\n",
      "646               เราชนะ     114\n",
      "752           โควิดระยอง     112\n",
      "223    ดีเจมะตูมติดโควิด     105\n",
      "137             กาละแมร์     104\n"
     ]
    },
    {
     "data": {
      "image/png": "[encoded data removed]",
      "text/plain": "<Figure size 2160x576 with 1 Axes>"
     },
     "metadata": {
      "needs_background": "light"
     },
     "output_type": "display_data"
    }
   ],
   "source": [
    "import json\n",
    "from ast import literal_eval\n",
    "import seaborn as sns\n",
    "\n",
    "source_file = OUTPUT_CLEAN_FILE\n",
    "df=pd.read_csv(source_file)\n",
    "\n",
    "data_list = df.values\n",
    "data = list(map(lambda s: s[0] ,data_list))\n",
    "\n",
    "data = df\n",
    "data['hashtags'] = data['hashtags'].apply(literal_eval)\n",
    "\n",
    "hashtag_list = []\n",
    "for i in range(0, len(data)):\n",
    "    # Obtain the current list of hashtags\n",
    "    curr_hashtag = data.iloc[i, :]['hashtags']\n",
    "\n",
    "    # Extract and append the hashtags to 'hashtag_list':\n",
    "    for j in range(0, len(curr_hashtag)):\n",
    "        hashtag_list.append(curr_hashtag[j])\n",
    "\n",
    "# No. of hashtags\n",
    "print('No. of hashtags used in {} tweets is {}'.format(len(data), len(hashtag_list)))\n",
    "\n",
    "df_hashtag = pd.DataFrame(\n",
    "    {'hashtags': hashtag_list}\n",
    ")\n",
    "# print(df_hashtag.head(10))\n",
    "print('Shape of df_hashtag is:', df_hashtag.shape)\n",
    "\n",
    "\n",
    "# Define N to be the top number of hashtags\n",
    "N = 15\n",
    "print('Top ',N,' Hashtags')\n",
    "top_hashtags = df_hashtag.groupby(['hashtags']).size().reset_index(name = 'counts').sort_values(by = 'counts', ascending = False).head(N)\n",
    "print(top_hashtags)\n",
    "# seaborn countplot on the top N hashtags\n",
    "plt.rcParams['font.family'] = 'tahoma'\n",
    "plt.figure(figsize=(30,8))\n",
    "sns.set_palette('PuBuGn_d')\n",
    "sns.barplot(x = 'hashtags', y = 'counts', data = top_hashtags)\n",
    "plt.title('Barplot of Top ' + str(N) + ' Hashtags used')\n",
    "plt.xlabel('Hashtags', color = 'white', fontname='Tahoma')\n",
    "plt.ylabel('Frequency', color = 'white', fontname='Tahoma')\n",
    "plt.show()\n"
   ],
   "metadata": {
    "collapsed": false,
    "pycharm": {
     "name": "#%%\n"
    }
   }
  },
  {
   "cell_type": "markdown",
   "source": [
    "### Prepare Graph"
   ],
   "metadata": {
    "collapsed": false
   }
  },
  {
   "cell_type": "code",
   "execution_count": 5,
   "outputs": [
    {
     "name": "stdout",
     "output_type": "stream",
     "text": [
      "saved file success\n"
     ]
    }
   ],
   "source": [
    "import json\n",
    "from datetime import date\n",
    "from dateutil.rrule import rrule, DAILY\n",
    "\n",
    "pre_a = date(2020, 12, 31)\n",
    "a = date(2021, 1, 1)\n",
    "b = date(2021, 2, 28)\n",
    "\n",
    "df=readFile(OUTPUT_CLEAN_FILE)\n",
    "data = []\n",
    "for dt in rrule(DAILY, dtstart=pre_a, until=b):\n",
    "\n",
    "    dt_date = dt.strftime(\"%Y-%m-%d\")\n",
    "    search_result = df.loc[df['date'] == dt_date]\n",
    "    tweet_count = len(search_result)\n",
    "    if dt.date() == pre_a:\n",
    "        data.append({\n",
    "            'date': dt_date,\n",
    "            'tweet_count': 1\n",
    "        })\n",
    "    elif dt.date() < a:\n",
    "        data.append({\n",
    "            'date': dt_date,\n",
    "            'tweet_count': 0\n",
    "        })\n",
    "    else:\n",
    "        data.append({\n",
    "            'date': dt_date,\n",
    "            'tweet_count': tweet_count\n",
    "        })\n",
    "\n",
    "with open(OUTPUT_GRAPH_FILE, 'w') as outfile:\n",
    "    json.dump(data, outfile)\n",
    "print('saved file success')\n"
   ],
   "metadata": {
    "collapsed": false,
    "pycharm": {
     "name": "#%%\n"
    }
   }
  },
  {
   "cell_type": "markdown",
   "source": [
    "### Show Graph"
   ],
   "metadata": {
    "collapsed": false
   }
  },
  {
   "cell_type": "code",
   "execution_count": 1,
   "outputs": [
    {
     "ename": "NameError",
     "evalue": "name 'OUTPUT_GRAPH_FILE' is not defined",
     "output_type": "error",
     "traceback": [
      "\u001B[0;31m---------------------------------------------------------------------------\u001B[0m",
      "\u001B[0;31mNameError\u001B[0m                                 Traceback (most recent call last)",
      "\u001B[0;32m<ipython-input-1-2cd2084190d9>\u001B[0m in \u001B[0;36m<module>\u001B[0;34m\u001B[0m\n\u001B[1;32m     79\u001B[0m \u001B[0;34m\u001B[0m\u001B[0m\n\u001B[1;32m     80\u001B[0m \u001B[0;34m\u001B[0m\u001B[0m\n\u001B[0;32m---> 81\u001B[0;31m \u001B[0mplot_graph\u001B[0m\u001B[0;34m(\u001B[0m\u001B[0;34m[\u001B[0m\u001B[0mOUTPUT_GRAPH_FILE\u001B[0m\u001B[0;34m]\u001B[0m\u001B[0;34m,\u001B[0m \u001B[0;34m'Covid19 Tweet Count'\u001B[0m\u001B[0;34m,\u001B[0m \u001B[0;36m15\u001B[0m\u001B[0;34m,\u001B[0m \u001B[0;36m20\u001B[0m\u001B[0;34m,\u001B[0m \u001B[0;36m20\u001B[0m\u001B[0;34m)\u001B[0m\u001B[0;34m\u001B[0m\u001B[0;34m\u001B[0m\u001B[0m\n\u001B[0m",
      "\u001B[0;31mNameError\u001B[0m: name 'OUTPUT_GRAPH_FILE' is not defined"
     ]
    }
   ],
   "source": [
    "import datetime as dt\n",
    "import json\n",
    "import pandas as pd\n",
    "import matplotlib.pyplot as plt\n",
    "import matplotlib.dates as md\n",
    "import numpy as np\n",
    "\n",
    "def plot_graph(file_names, title_name, h_size=5, w_size = 20, y_internal_rage = 1):\n",
    "    listofdf = []\n",
    "\n",
    "    y_min_val = 0\n",
    "    y_max_val = 0\n",
    "    for file_name in file_names:\n",
    "        f = open(file_name)\n",
    "        histprices = json.load(f)\n",
    "        for i in histprices:\n",
    "            y_max_val = i['tweet_count'] if i['tweet_count'] > y_max_val else y_max_val\n",
    "            i['date'] = dt.datetime.strptime(i['date'], '%Y-%m-%d').date()\n",
    "\n",
    "\n",
    "        #Parse the API response and select only last 600 days of prices\n",
    "        # histprices = histprices[-20:]\n",
    "        graph_df = pd.DataFrame.from_dict(histprices)\n",
    "        graph_df = graph_df.rename({'tweet_count': file_name}, axis=1)\n",
    "        listofdf.append(graph_df)\n",
    "\n",
    "    #set index of each DataFrame by common column before concatinatinghtem\n",
    "    dfs = [df.set_index('date') for df in listofdf]\n",
    "    histpriceconcat = pd.concat(dfs,axis=1)\n",
    "    # prepare the figure\n",
    "    fig, ax = plt.subplots(figsize = (w_size, h_size))\n",
    "    # specify the position of the major ticks at the beginning of the week\n",
    "    # ax.xaxis.set_major_locator(md.WeekdayLocator(byweekday = 1))\n",
    "    ax.xaxis.set_major_locator(md.DayLocator(interval=2))\n",
    "    # specify the format of the labels as 'year-month-day'\n",
    "    ax.xaxis.set_major_formatter(md.DateFormatter('%Y-%m-%d'))\n",
    "    # specify the position of the minor ticks at each day\n",
    "    ax.xaxis.set_minor_locator(md.DayLocator(interval = 1))\n",
    "    # set ticks length\n",
    "    ax.tick_params(axis = 'x', which = 'major', length = 12)\n",
    "    ax.tick_params(axis = 'x', which = 'minor', length = 7)\n",
    "\n",
    "    # ax.set_ylim(0)\n",
    "\n",
    "    #divide all dataframe by first line of data to enable comparison\n",
    "    histpriceconcat = histpriceconcat/histpriceconcat.iloc[0]\n",
    "\n",
    "    for i, col in enumerate(histpriceconcat.columns):\n",
    "        histpriceconcat[col].plot()\n",
    "\n",
    "    # min value of y axis\n",
    "    ax.set_ylim(0)\n",
    "\n",
    "    ax.spines['left'].set_color('white')\n",
    "    ax.spines['bottom'].set_color('white')\n",
    "    ax.spines['top'].set_color('white')\n",
    "    ax.xaxis.label.set_color('white')\n",
    "    ax.yaxis.label.set_color('white')\n",
    "    ax.tick_params(axis='x', colors='white')\n",
    "    ax.tick_params(axis='y', colors='white')\n",
    "\n",
    "\n",
    "    plt.yticks(np.arange(y_min_val, y_max_val, y_internal_rage))\n",
    "\n",
    "    title_obj = plt.title('Tweet count Comparison [' + title_name +']')\n",
    "    plt.setp(title_obj, color='white')         #set the color of title to red\n",
    "\n",
    "    plt.grid(True)\n",
    "    # (optional) rotate by 90° the labels in order to improve their spacing\n",
    "    plt.setp(ax.xaxis.get_majorticklabels(), rotation = 70)\n",
    "    # set axes labels\n",
    "    plt.xlabel('Date')\n",
    "    plt.ylabel('Tweet Count')\n",
    "    # plt.xticks(rotation=300)\n",
    "    plt.legend(histpriceconcat.columns)\n",
    "    # plt.rcParams[\"figure.figsize\"] = (20,8)\n",
    "    # show the plot\n",
    "    plt.show()\n",
    "\n",
    "\n",
    "plot_graph([OUTPUT_GRAPH_FILE], 'Covid19 Tweet Count', 15, 20, 20)"
   ],
   "metadata": {
    "collapsed": false,
    "pycharm": {
     "name": "#%%\n"
    }
   }
  },
  {
   "cell_type": "code",
   "execution_count": 6,
   "outputs": [
    {
     "name": "stdout",
     "output_type": "stream",
     "text": [
      "[[0.07179582 0.14359163 0.21538745 0.28718326 0.57436653 0.71795816]]\n",
      "0.14359163172354764\n",
      "[{'counts': 0.07179581586177382}, {'counts': 0.14359163172354764}, {'counts': 0.21538744758532144}, {'counts': 0.28718326344709527}, {'counts': 0.5743665268941905}, {'counts': 0.7179581586177382}]\n"
     ]
    }
   ],
   "source": [
    "from sklearn import preprocessing\n",
    "\n",
    "\n",
    "data_list = [\n",
    "             {\n",
    "                 'counts': 1\n",
    "             },\n",
    "            {\n",
    "                 'counts': 2\n",
    "             },\n",
    "             {\n",
    "                 'counts': 3\n",
    "             },\n",
    "            {\n",
    "                 'counts': 4\n",
    "             },\n",
    "             {\n",
    "                 'counts': 8\n",
    "             },\n",
    "            {\n",
    "                 'counts': 10\n",
    "             },\n",
    "]\n",
    "ori_data = np.array([x['counts'] for x in data_list])\n",
    "norm_data = preprocessing.normalize([ori_data])\n",
    "\n",
    "for i in range(len(data_list)):\n",
    "  data_list[i]['counts'] = norm_data[0][i]\n",
    "\n",
    "data_list2 = [\n",
    "             {\n",
    "                 'counts': 1\n",
    "             },\n",
    "            {\n",
    "                 'counts': 2\n",
    "             },\n",
    "             {\n",
    "                 'counts': 3\n",
    "             },\n",
    "            {\n",
    "                 'counts': 4\n",
    "             },\n",
    "             {\n",
    "                 'counts': 8\n",
    "             },\n",
    "            {\n",
    "                 'counts': 10\n",
    "             }\n",
    "]\n",
    "ori_data2 = np.array([x['counts'] for x in data_list2])\n",
    "norm_data2 = preprocessing.normalize([ori_data2])\n",
    "\n",
    "for i in range(len(data_list2)):\n",
    "  data_list2[i]['counts'] = norm_data2[0][i]"
   ],
   "metadata": {
    "collapsed": false,
    "pycharm": {
     "name": "#%%\n"
    }
   }
  }
 ],
 "metadata": {
  "kernelspec": {
   "name": "pycharm-3f2e3091",
   "language": "python",
   "display_name": "PyCharm (ml-term-project)"
  },
  "language_info": {
   "codemirror_mode": {
    "name": "ipython",
    "version": 2
   },
   "file_extension": ".py",
   "mimetype": "text/x-python",
   "name": "python",
   "nbconvert_exporter": "python",
   "pygments_lexer": "ipython2",
   "version": "2.7.6"
  }
 },
 "nbformat": 4,
 "nbformat_minor": 0
}